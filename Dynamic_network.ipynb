{
  "nbformat": 4,
  "nbformat_minor": 0,
  "metadata": {
    "colab": {
      "name": "Copy of Untitled1.ipynb",
      "private_outputs": true,
      "provenance": [],
      "collapsed_sections": [],
      "toc_visible": true
    },
    "kernelspec": {
      "name": "python3",
      "display_name": "Python 3"
    }
  },
  "cells": [
    {
      "cell_type": "code",
      "metadata": {
        "id": "qkEHnNUNgKvy"
      },
      "source": [
        "pip install --verbose dionysus"
      ],
      "execution_count": null,
      "outputs": []
    },
    {
      "cell_type": "code",
      "metadata": {
        "id": "zeVyVrD4kmVY"
      },
      "source": [
        "#%% Libraries and Functions\n",
        "import dionysus as d\n",
        "import numpy as np\n",
        "import matplotlib.pyplot as plt\n",
        "import networkx as nx\n",
        "from scipy.spatial.distance import pdist\n",
        "from scipy.spatial.distance import squareform\n",
        "import os\n",
        "import pandas as pd\n",
        "import time\n"
      ],
      "execution_count": null,
      "outputs": []
    },
    {
      "cell_type": "markdown",
      "metadata": {
        "id": "M2Mcd3E900-Q"
      },
      "source": [
        "# New Section"
      ]
    },
    {
      "cell_type": "code",
      "metadata": {
        "id": "jkGkhwlGm3mR"
      },
      "source": [
        "#%% Parameters \n",
        "# TDA \n",
        "\n",
        "scaleParameter = 1.0  # Scale Parameter\n",
        "maxDimHoles = 3 # Maximum Dimension of Holes (always choose the desired number + 1)\n",
        "# Dynamic Network\n",
        "nameFolderNet = '/content/drive/My Drive/Florida/weather' # * Example 1\n",
        "#nameFolderNet = 'Example8/E6N_1Del/File' # * Example 2\n",
        "#nameFolderNet = 'Example8/E6N_2Del/File' # * Example 3\n",
        "NVertices = 60 # Number of vertices, all graphs have the same number of vertices\n",
        "TotalNets = 214 # Total of graphs in the dynamic network\n",
        "folderSaveImgs = '/content/drive/My Drive/Florida/OUTPUT/' # HERE !!! Output..."
      ],
      "execution_count": null,
      "outputs": []
    },
    {
      "cell_type": "code",
      "metadata": {
        "id": "Yoa1W_xBoubs"
      },
      "source": [
        "\n",
        "#%% Creating folders and compute everything automatically\n",
        "start_time = time.time() # **** To measure time\n",
        "for kNet in range(0,TotalNets): \n",
        "    #kNet = 0 # Network's index\n",
        "    print('*************  '+str(kNet)+'  *************')\n",
        "    #%% Open all sets (point-cloud/Graphs)\n",
        "    print(\"Loading data...\") # Beginning\n",
        "    Graphs = []\n",
        "    #edgesList = np.loadtxt(nameFolderNet+str(kNet+1)+\".txt\") # Load data (TXT)\n",
        "    edgesList = np.loadtxt(nameFolderNet+'.'+str(kNet)+\".csv\", delimiter=',') # Load data (CSV)\n",
        "    Graphs.append(edgesList)\n",
        "    print(\"  --- End Loading...\") # Ending\n",
        "\n",
        "    #%% Plot Graph\n",
        "    print(\"Plot and NetworkX...\") # Beginning\n",
        "    GraphsNetX = []\n",
        "    plt.figure(num=None, figsize=(6, 6), dpi=80, facecolor='w', edgecolor='k')\n",
        "    g = nx.Graph()\n",
        "    g.add_nodes_from(list(range(1,NVertices+1))) # Add vertices...\n",
        "    i = 0 # There is only one graph... the current one...\n",
        "    if(Graphs[i].ndim==1 and len(Graphs[i])>0):\n",
        "        g.add_edge(Graphs[i][0], Graphs[i][1], weight=Graphs[i][2])\n",
        "    elif(Graphs[i].ndim==2):\n",
        "        for k in range(0,Graphs[i].shape[0]):\n",
        "            g.add_edge(Graphs[i][k,0], Graphs[i][k,1], weight=Graphs[i][k,2])\n",
        "    GraphsNetX.append(g)\n",
        "    plt.title(str(kNet))\n",
        "    pos = nx.circular_layout(GraphsNetX[i])\n",
        "    nx.draw(GraphsNetX[i], pos, node_size=15, edge_color='r') \n",
        "    #nx.draw_circular(GraphsNetX[i], node_size=15, edge_color='r') \n",
        "    labels = nx.get_edge_attributes(GraphsNetX[i], 'weight')\n",
        "    for lab in labels:\n",
        "        labels[lab] = round(labels[lab],4)\n",
        "    nx.draw_networkx_edge_labels(GraphsNetX[i], pos, edge_labels=labels, font_size=3)\n",
        "\n",
        "    plt.savefig(folderSaveImgs+'GRAPHS/Graphs'+str(kNet)+'.pdf', bbox_inches='tight')\n",
        "    plt.close()\n",
        "    print(\"---- End: Plot and NetworkX...\") # End\n",
        "\n",
        "    #%% Building unions and computing distance matrices \n",
        "    print(\"Computing distance matrices...\") # Beginning \n",
        "    MDisGraph = [] \n",
        "    i = 0 # There is only one graph... the current one...\n",
        "    # --- To build the distance matrix (from 0 to 1.0)\n",
        "    MDisAux = np.zeros((NVertices, NVertices))\n",
        "    A = nx.adjacency_matrix(GraphsNetX[i]).todense()\n",
        "     #### This number is very important !!! *******\n",
        "    # It should be bigger that: scaleParameter\n",
        "    A[A==0] = 1.1  \n",
        "    A[range(NVertices), range(NVertices)] = 0 # To set the diagonal to 0 \n",
        "    MDisAux[0:NVertices,0:NVertices] = A \n",
        "    # --- To build the distance matrix (from 1.0 to 0 - inverted) \n",
        "    # MDisAux = np.zeros((NVertices, NVertices))\n",
        "    # A = nx.adjacency_matrix(GraphsNetX[i]).todense()\n",
        "    # indGreater0 = np.where(A>0) \n",
        "    # A[indGreater0] = 1.0 - A[indGreater0]\n",
        "    # A[A==0] = 1.1  #### This number is very important !!! *******\n",
        "    # A[range(NVertices), range(NVertices)] = 0 # To set the diagonal to 0 \n",
        "    # MDisAux[0:NVertices,0:NVertices] = A \n",
        "    # --- Distance in condensed form \n",
        "    pDisAux = squareform(MDisAux) \n",
        "    # --- To save distances \n",
        "    MDisGraph.append(pDisAux) # To save distance matrix\n",
        "    print(\"  --- Distance matrices...\") # Ending\n",
        "\n",
        "\n",
        "    #%% To perform Ripser computations\n",
        "    print(\"Computing Vietoris-Rips complexes...\") # Beginning \n",
        "    GVRips = [] \n",
        "    i = 0 # There is only one graph... the current one...\n",
        "    ripsAux = d.fill_rips(MDisGraph[i], maxDimHoles, scaleParameter) \n",
        "    GVRips.append(ripsAux)\n",
        "    print(\"  --- End Vietoris-Rips computation\") # Ending \n",
        "\n",
        "    #%% To perform Ripser computations\n",
        "    print(\"Persistence Homology...\") # Beginning \n",
        "    GPHomology = [] \n",
        "    Gdgms = [] \n",
        "    i = 0 # There is only one graph... the current one...\n",
        "    phAux = d.homology_persistence(GVRips[i])\n",
        "    GPHomology.append(phAux) \n",
        "    dgmsAux = d.init_diagrams(GPHomology[i], GVRips[i])\n",
        "    Gdgms.append(dgmsAux)\n",
        "    print(\"  --- End Persistence Homology\") # Ending \n",
        "\n",
        "    #%% Diagram \n",
        "    #-- Important: It does not show information of intervals (p.birth, Inf)\n",
        "    # i = 0 # There is only one graph... the current one...\n",
        "    # d.plot.plot_diagram(Gdgms[i][0], show = True)\n",
        "    # d.plot.plot_bars(Gdgms[i][0], show = True)\n",
        "\n",
        "    # %% Personalized plot\n",
        "    theta = 0 # There is only one graph... the current one...\n",
        "    for i,dgm in enumerate(Gdgms[theta]):\n",
        "        print(\"Dimension:\", i) \n",
        "        plt.figure(num=None, figsize=(16, 6), dpi=80, facecolor='w', edgecolor='k')\n",
        "        if(i<maxDimHoles): \n",
        "            BCfull = np.zeros((len(dgm), 3)) \n",
        "            matBarcode = np.zeros((len(dgm), 2)) \n",
        "            k = 0\n",
        "            for p in dgm:\n",
        "                BCfull[k,0] = i\n",
        "                BCfull[k,1] = p.birth\n",
        "                BCfull[k,2] = p.death\n",
        "                #print(\"( \"+str(p.birth)+\"  \"+str(p.death)+\" )\") \n",
        "                matBarcode[k,0] = p.birth\n",
        "                matBarcode[k,1] = p.death\n",
        "                k = k + 1\n",
        "            BCfull[BCfull==np.inf] = -1 # Change infty to -1\n",
        "            matBarcode[matBarcode==np.inf] = 1.0 # Change infty to 1.0 \n",
        "            #matBarcode = matBarcode\n",
        "            #print(matBarcode)\n",
        "            for j in range(0,matBarcode.shape[0]): \n",
        "                plt.plot(matBarcode[j], [j,j], 'b') \n",
        "            #Human readable data\n",
        "            if(i==0):\n",
        "                BCALL = BCfull\n",
        "            else:\n",
        "                BCALL = np.concatenate((BCALL, BCfull),axis=0)\n",
        "            np.savetxt(folderSaveImgs+'DATA/BCALL'+str(kNet)+'.txt', BCALL)\n",
        "\n",
        "            #plt.xticks(np.arange(sizeWindow))\n",
        "            #plt.grid(axis='x', linestyle='-')\n",
        "            plt.savefig(folderSaveImgs+'BARCODES/WDW'+str(kNet)+'BoxPlot'+str(i)+'.pdf', bbox_inches='tight') \n",
        "            plt.close()\n",
        "            #plt.show()\n",
        "\n",
        "# *** Timing\n",
        "print(\"\\nTIME: \"+str((time.time() - start_time))+\" Seg ---  \"+str((time.time() - start_time)/60)+\" Min ---  \"+str((time.time() - start_time)/(60*60))+\" Hr \")\n",
        " \n",
        "#%%\n",
        "\n"
      ],
      "execution_count": null,
      "outputs": []
    },
    {
      "cell_type": "code",
      "metadata": {
        "id": "Xrf_DfnlPhk9"
      },
      "source": [
        ""
      ],
      "execution_count": null,
      "outputs": []
    },
    {
      "cell_type": "markdown",
      "metadata": {
        "id": "pH2BCmYnz3ZD"
      },
      "source": [
        "# New Section"
      ]
    },
    {
      "cell_type": "code",
      "metadata": {
        "id": "hsWl9MFyssKf"
      },
      "source": [
        ""
      ],
      "execution_count": null,
      "outputs": []
    },
    {
      "cell_type": "code",
      "metadata": {
        "id": "Jwi90LgVvNJi"
      },
      "source": [
        ""
      ],
      "execution_count": null,
      "outputs": []
    }
  ]
}